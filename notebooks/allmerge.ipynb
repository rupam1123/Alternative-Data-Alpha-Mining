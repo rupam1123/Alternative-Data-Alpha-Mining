{
 "cells": [
  {
   "cell_type": "code",
   "execution_count": null,
   "id": "9ea11bc6",
   "metadata": {},
   "outputs": [],
   "source": [
    "# Load returns\n",
    "returns = pd.read_csv(output_path, parse_dates=[\"date\"])\n",
    "\n",
    "# Load other sources\n",
    "reddit = pd.read_csv(\"/home/rupam/DataAlpha/data/raw/processed/reddit_sentiment_2020.csv\", parse_dates=[\"date\"])\n",
    "news = pd.read_csv(\"/home/rupam/DataAlpha/data/raw/processed/news_sentiment_2020.csv\", parse_dates=[\"date\"])\n",
    "google = pd.read_csv(\"/home/rupam/DataAlpha/data/raw/processed/google_trends_2020.csv\", parse_dates=[\"date\"])\n",
    "\n",
    "# Rename columns for clarity\n",
    "reddit.rename(columns={\"sentiment\": \"reddit_sentiment\"}, inplace=True)\n",
    "news.rename(columns={\"sentiment\": \"news_sentiment\"}, inplace=True)\n",
    "google.rename(columns={\"trend_score\": \"google_trend\"}, inplace=True)\n",
    "\n",
    "# Merge\n",
    "df = returns.copy()\n",
    "df = df.merge(reddit, on=[\"date\", \"ticker\"], how=\"left\")\n",
    "df = df.merge(news, on=[\"date\", \"ticker\"], how=\"left\")\n",
    "df = df.merge(google, on=[\"date\", \"ticker\"], how=\"left\")\n",
    "\n",
    "# Save final merged\n",
    "final_path = \"/home/rupam/DataAlpha/data/processed/merged_data.csv\"\n",
    "df.to_csv(final_path, index=False)\n",
    "print(f\"✅ Merged dataset saved to: {final_path}\")\n"
   ]
  }
 ],
 "metadata": {
  "language_info": {
   "name": "python"
  }
 },
 "nbformat": 4,
 "nbformat_minor": 5
}
