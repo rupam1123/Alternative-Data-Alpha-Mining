{
 "cells": [
  {
   "cell_type": "code",
   "execution_count": 7,
   "id": "578aa316",
   "metadata": {},
   "outputs": [
    {
     "name": "stderr",
     "output_type": "stream",
     "text": [
      "/tmp/ipykernel_28528/1973671912.py:41: FutureWarning: DataFrameGroupBy.apply operated on the grouping columns. This behavior is deprecated, and in a future version of pandas the grouping columns will be excluded from the operation. Either pass `include_groups=False` to exclude the groupings or explicitly select the grouping columns after groupby to silence this warning.\n",
      "  google_full['trend_score'] = google_full.groupby('ticker').apply(\n"
     ]
    }
   ],
   "source": [
    "import pandas as pd\n",
    "\n",
    "# Paths\n",
    "google_path = \"/home/rupam/DataAlpha/data/raw/processed/google_trends_sentiment_2020.csv\"\n",
    "returns_path = \"/home/rupam/DataAlpha/data/raw/processed/all_returns.csv\"\n",
    "\n",
    "# Load\n",
    "df_google = pd.read_csv(google_path, parse_dates=['date'])\n",
    "df_returns = pd.read_csv(returns_path, parse_dates=['date'])\n",
    "\n",
    "# Get trading dates\n",
    "all_dates = pd.date_range(df_returns['date'].min(), df_returns['date'].max(), freq='D')\n",
    "unique_tickers = df_returns['ticker'].unique()\n",
    "\n",
    "# Build full date ticker grid\n",
    "calendar = pd.MultiIndex.from_product([all_dates, unique_tickers], names=['date', 'ticker']).to_frame(index=False)\n",
    "calendar.sort_values(['ticker', 'date'], inplace=True)\n",
    "\n",
    "# Merge raw google data\n",
    "google_full = calendar.merge(df_google, on=['date', 'ticker'], how='left')\n",
    "\n",
    "# Sort\n",
    "google_full.sort_values(['ticker', 'date'], inplace=True)\n",
    "\n",
    "# For each ticker, expand weekend data into next Monday-Saturday\n",
    "def expand_weekly(series, dates):\n",
    "    values = series.copy()\n",
    "    last_value = None\n",
    "    for i in range(len(values)):\n",
    "        weekday = dates.iloc[i].weekday()  # Monday=0, Sunday=6\n",
    "        if weekday in [5,6] and pd.notnull(values.iloc[i]):\n",
    "            last_value = values.iloc[i]\n",
    "        elif weekday in [0,1,2,3,4]:  # Mon-Fri\n",
    "            if last_value is not None:\n",
    "                values.iloc[i] = last_value\n",
    "        # Reset last_value on next weekend\n",
    "        if weekday == 4:  # Friday\n",
    "            last_value = None\n",
    "    return values\n",
    "\n",
    "google_full['trend_score'] = google_full.groupby('ticker').apply(\n",
    "    lambda g: expand_weekly(g['trend_score'], g['date'])\n",
    ").reset_index(drop=True)\n",
    "\n",
    "# Filter only trading dates (weekdays)\n",
    "google_expanded = google_full[google_full['date'].dt.weekday < 5]\n",
    "\n",
    "# Save\n",
    "output_path = \"/home/rupam/DataAlpha/data/raw/processed/google_trends_expanded.csv\"\n",
    "google_expanded.to_csv(output_path, index=False)\n"
   ]
  },
  {
   "cell_type": "code",
   "execution_count": 9,
   "id": "9b0fe772",
   "metadata": {},
   "outputs": [
    {
     "name": "stderr",
     "output_type": "stream",
     "text": [
      "/tmp/ipykernel_28528/3165707119.py:25: FutureWarning: Series.fillna with 'method' is deprecated and will raise in a future version. Use obj.ffill() or obj.bfill() instead.\n",
      "  filled = series.fillna(method='ffill', limit=limit)\n"
     ]
    }
   ],
   "source": [
    "import pandas as pd\n",
    "\n",
    "# Paths\n",
    "reddit_path = \"/home/rupam/DataAlpha/data/raw/processed/reddit_sentiment_2020.csv\"\n",
    "returns_path = \"/home/rupam/DataAlpha/data/raw/processed/all_returns.csv\"\n",
    "\n",
    "# Load\n",
    "df_reddit = pd.read_csv(reddit_path, parse_dates=['date'])\n",
    "df_returns = pd.read_csv(returns_path, parse_dates=['date'])\n",
    "\n",
    "# Build calendar\n",
    "all_dates = pd.date_range(df_returns['date'].min(), df_returns['date'].max(), freq='D')\n",
    "unique_tickers = df_returns['ticker'].unique()\n",
    "calendar = pd.MultiIndex.from_product([all_dates, unique_tickers], names=['date', 'ticker']).to_frame(index=False)\n",
    "calendar.sort_values(['ticker', 'date'], inplace=True)\n",
    "\n",
    "# Merge reddit data\n",
    "reddit_full = calendar.merge(df_reddit, on=['date', 'ticker'], how='left')\n",
    "\n",
    "# Sort\n",
    "reddit_full.sort_values(['ticker', 'date'], inplace=True)\n",
    "\n",
    "# Forward fill 5 days limit, preserve weekday data, else 0\n",
    "def ffill_with_limit(series, limit):\n",
    "    filled = series.fillna(method='ffill', limit=limit)\n",
    "    return filled.fillna(0)\n",
    "\n",
    "reddit_full['sentiment'] = reddit_full.groupby('ticker')['sentiment'].transform(lambda s: ffill_with_limit(s, 5))\n",
    "\n",
    "# Filter only trading dates (weekdays)\n",
    "reddit_expanded = reddit_full[reddit_full['date'].dt.weekday < 5]\n",
    "\n",
    "# Save\n",
    "output_path = \"/home/rupam/DataAlpha/data/raw/processed/reddit_sentiment_expanded.csv\"\n",
    "reddit_expanded.to_csv(output_path, index=False)\n"
   ]
  },
  {
   "cell_type": "code",
   "execution_count": 10,
   "id": "f46a8143",
   "metadata": {},
   "outputs": [
    {
     "name": "stderr",
     "output_type": "stream",
     "text": [
      "/tmp/ipykernel_28528/1466571880.py:25: FutureWarning: Series.fillna with 'method' is deprecated and will raise in a future version. Use obj.ffill() or obj.bfill() instead.\n",
      "  filled = series.fillna(method='ffill', limit=limit)\n"
     ]
    }
   ],
   "source": [
    "import pandas as pd\n",
    "\n",
    "# Paths\n",
    "news_path = \"/home/rupam/DataAlpha/data/raw/processed/news_sentiment_2020.csv\"\n",
    "returns_path = \"/home/rupam/DataAlpha/data/raw/processed/all_returns.csv\"\n",
    "\n",
    "# Load\n",
    "df_news = pd.read_csv(news_path, parse_dates=['date'])\n",
    "df_returns = pd.read_csv(returns_path, parse_dates=['date'])\n",
    "\n",
    "# Build calendar\n",
    "all_dates = pd.date_range(df_returns['date'].min(), df_returns['date'].max(), freq='D')\n",
    "unique_tickers = df_returns['ticker'].unique()\n",
    "calendar = pd.MultiIndex.from_product([all_dates, unique_tickers], names=['date', 'ticker']).to_frame(index=False)\n",
    "calendar.sort_values(['ticker', 'date'], inplace=True)\n",
    "\n",
    "# Merge news data\n",
    "news_full = calendar.merge(df_news, on=['date', 'ticker'], how='left')\n",
    "\n",
    "# Sort\n",
    "news_full.sort_values(['ticker', 'date'], inplace=True)\n",
    "\n",
    "# Forward fill 10 days limit, preserve weekday data, else 0\n",
    "def ffill_with_limit(series, limit):\n",
    "    filled = series.fillna(method='ffill', limit=limit)\n",
    "    return filled.fillna(0)\n",
    "\n",
    "news_full['sentiment'] = news_full.groupby('ticker')['sentiment'].transform(lambda s: ffill_with_limit(s, 10))\n",
    "\n",
    "# Filter only trading dates (weekdays)\n",
    "news_expanded = news_full[news_full['date'].dt.weekday < 5]\n",
    "\n",
    "# Save\n",
    "output_path = \"/home/rupam/DataAlpha/data/raw/processed/news_sentiment_expanded.csv\"\n",
    "news_expanded.to_csv(output_path, index=False)\n"
   ]
  },
  {
   "cell_type": "code",
   "execution_count": 11,
   "id": "2224aaae",
   "metadata": {},
   "outputs": [],
   "source": [
    "import pandas as pd\n",
    "\n",
    "# Paths\n",
    "returns_path = \"/home/rupam/DataAlpha/data/raw/processed/all_returns.csv\"\n",
    "reddit_path = \"/home/rupam/DataAlpha/data/raw/processed/reddit_sentiment_expanded.csv\"\n",
    "news_path = \"/home/rupam/DataAlpha/data/raw/processed/news_sentiment_expanded.csv\"\n",
    "google_path = \"/home/rupam/DataAlpha/data/raw/processed/google_trends_expanded.csv\"\n",
    "\n",
    "# Load\n",
    "df_returns = pd.read_csv(returns_path, parse_dates=['date'])\n",
    "df_reddit = pd.read_csv(reddit_path, parse_dates=['date'])\n",
    "df_news = pd.read_csv(news_path, parse_dates=['date'])\n",
    "df_google = pd.read_csv(google_path, parse_dates=['date'])\n",
    "\n",
    "# Merge\n",
    "df = df_returns.merge(df_reddit[['date', 'ticker', 'sentiment']], on=['date', 'ticker'], how='left')\n",
    "df.rename(columns={'sentiment': 'reddit_sentiment'}, inplace=True)\n",
    "\n",
    "df = df.merge(df_news[['date', 'ticker', 'sentiment']], on=['date', 'ticker'], how='left')\n",
    "df.rename(columns={'sentiment': 'news_sentiment'}, inplace=True)\n",
    "\n",
    "df = df.merge(df_google[['date', 'ticker', 'trend_score']], on=['date', 'ticker'], how='left')\n",
    "\n",
    "# Save\n",
    "output_path = \"/home/rupam/DataAlpha/data/raw/processed/final_merged_scores.csv\"\n",
    "df.to_csv(output_path, index=False)\n"
   ]
  }
 ],
 "metadata": {
  "kernelspec": {
   "display_name": "alphaenv",
   "language": "python",
   "name": "python3"
  },
  "language_info": {
   "codemirror_mode": {
    "name": "ipython",
    "version": 3
   },
   "file_extension": ".py",
   "mimetype": "text/x-python",
   "name": "python",
   "nbconvert_exporter": "python",
   "pygments_lexer": "ipython3",
   "version": "3.13.3"
  }
 },
 "nbformat": 4,
 "nbformat_minor": 5
}
