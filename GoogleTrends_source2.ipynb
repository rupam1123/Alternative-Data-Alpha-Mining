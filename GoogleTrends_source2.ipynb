{
 "cells": [
  {
   "cell_type": "code",
   "execution_count": 6,
   "id": "d81e83ff",
   "metadata": {},
   "outputs": [
    {
     "name": "stderr",
     "output_type": "stream",
     "text": [
      "Fetching Google Trends:  55%|█████▌    | 279/503 [19:37<15:19,  4.10s/it]"
     ]
    },
    {
     "name": "stdout",
     "output_type": "stream",
     "text": [
      "⚠️ Error fetching KR: The request failed: Google returned a response with code 429\n"
     ]
    },
    {
     "name": "stderr",
     "output_type": "stream",
     "text": [
      "Fetching Google Trends:  56%|█████▋    | 284/503 [21:29<39:24, 10.80s/it]  "
     ]
    },
    {
     "name": "stdout",
     "output_type": "stream",
     "text": [
      "⚠️ Error fetching LVS: HTTPSConnectionPool(host='trends.google.com', port=443): Max retries exceeded with url: /trends/api/explore?hl=en-US&tz=360&req=%7B%22comparisonItem%22%3A+%5B%7B%22keyword%22%3A+%22LVS+stock%22%2C+%22time%22%3A+%222020-01-01+2020-12-31%22%2C+%22geo%22%3A+%22US%22%7D%5D%2C+%22category%22%3A+0%2C+%22property%22%3A+%22%22%7D (Caused by NameResolutionError(\"<urllib3.connection.HTTPSConnection object at 0x7635e508fed0>: Failed to resolve 'trends.google.com' ([Errno -3] Temporary failure in name resolution)\"))\n"
     ]
    },
    {
     "name": "stderr",
     "output_type": "stream",
     "text": [
      "Fetching Google Trends: 100%|██████████| 503/503 [38:21<00:00,  4.58s/it]  "
     ]
    },
    {
     "name": "stdout",
     "output_type": "stream",
     "text": [
      "✅ Google Trends data saved to: data/processed/google_trends_2020.csv\n"
     ]
    },
    {
     "name": "stderr",
     "output_type": "stream",
     "text": [
      "\n"
     ]
    }
   ],
   "source": [
    "import pandas as pd\n",
    "import time\n",
    "import re\n",
    "from pytrends.request import TrendReq\n",
    "from tqdm import tqdm\n",
    "\n",
    "# 1. Load S&P 500 tickers from Wikipedia\n",
    "sp500_df = pd.read_html(\"https://en.wikipedia.org/wiki/List_of_S%26P_500_companies\")[0]\n",
    "tickers = sp500_df[\"Symbol\"].tolist()\n",
    "\n",
    "# Some tickers like BRK.B need to be cleaned for pytrends\n",
    "tickers = [t.replace(\".\", \"-\") for t in tickers]\n",
    "\n",
    "# 2. Set up pytrends\n",
    "pytrends = TrendReq(hl=\"en-US\", tz=360)\n",
    "\n",
    "# 3. Define the timeframe and storage\n",
    "timeframe = \"2020-01-01 2020-12-31\"\n",
    "trend_data = []\n",
    "\n",
    "# 4. Loop through tickers\n",
    "for ticker in tqdm(tickers, desc=\"Fetching Google Trends\"):\n",
    "    keyword = f\"{ticker} stock\"\n",
    "    try:\n",
    "        pytrends.build_payload([keyword], timeframe=timeframe, geo=\"US\")\n",
    "        df = pytrends.interest_over_time()\n",
    "\n",
    "        if not df.empty:\n",
    "            df = df.reset_index()[[\"date\", keyword]]\n",
    "            df = df.rename(columns={keyword: \"trend_score\"})\n",
    "            df[\"ticker\"] = ticker\n",
    "            trend_data.append(df)\n",
    "\n",
    "        # Sleep to avoid being rate-limited\n",
    "        time.sleep(3)\n",
    "\n",
    "    except Exception as e:\n",
    "        print(f\"⚠️ Error fetching {ticker}: {e}\")\n",
    "        time.sleep(90)  # wait longer if rate limited\n",
    "\n",
    "# 5. Combine and save\n",
    "if trend_data:\n",
    "    trend_df = pd.concat(trend_data, ignore_index=True)\n",
    "    trend_df.to_csv(\"/home/rupam/DataAlpha/data/raw/Google_trends/google_trends_2020.csv\", index=False)\n",
    "    print(\"✅ Google Trends data saved to: data/processed/google_trends_2020.csv\")\n",
    "else:\n",
    "    print(\"❌ No trend data fetched.\")\n"
   ]
  }
 ],
 "metadata": {
  "kernelspec": {
   "display_name": "alphaenv",
   "language": "python",
   "name": "python3"
  },
  "language_info": {
   "codemirror_mode": {
    "name": "ipython",
    "version": 3
   },
   "file_extension": ".py",
   "mimetype": "text/x-python",
   "name": "python",
   "nbconvert_exporter": "python",
   "pygments_lexer": "ipython3",
   "version": "3.13.3"
  }
 },
 "nbformat": 4,
 "nbformat_minor": 5
}
